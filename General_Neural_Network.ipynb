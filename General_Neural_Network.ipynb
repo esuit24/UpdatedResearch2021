{
 "cells": [
  {
   "cell_type": "code",
   "execution_count": 1,
   "id": "198c185f",
   "metadata": {
    "scrolled": false
   },
   "outputs": [],
   "source": [
    "#imports\n",
    "import tensorflow as tf\n",
    "import numpy as np\n",
    "import Normal_Distribution_Data as data #input file name here \n",
    "import matplotlib.pyplot as plt\n",
    "import Gen_Neural_Network as nn "
   ]
  },
  {
   "cell_type": "code",
   "execution_count": 2,
   "id": "f51ce54b",
   "metadata": {},
   "outputs": [],
   "source": [
    "#load input data for function\n",
    "training = data.create_training_set(1000, 100)\n",
    "x_train = training[0]\n",
    "mu_train = training[1] \n",
    "alpha_train = training[2] \n",
    "beta_train = training[3]\n",
    "y_train = np.vstack((mu_train, alpha_train, beta_train))  \n",
    "y_train = y_train.T \n",
    "\n",
    "testing = data.create_training_set(300, 100)\n",
    "x_test = testing[0] \n",
    "mu_test = testing[1] \n",
    "alpha_test = testing[2] \n",
    "beta_test = testing[3] \n",
    "y_test = np.vstack((mu_test, alpha_test, beta_test)) \n",
    "y_test = y_test.T\n",
    "\n"
   ]
  },
  {
   "cell_type": "code",
   "execution_count": 6,
   "id": "c59a1f7b",
   "metadata": {},
   "outputs": [],
   "source": [
    "#set values for network \n",
    "num_inputs = 100\n",
    "factor = 2\n",
    "num_labels = 3\n",
    "model_name = \"normal_distribution.model\""
   ]
  },
  {
   "cell_type": "code",
   "execution_count": 7,
   "id": "8f4b08a2",
   "metadata": {},
   "outputs": [
    {
     "name": "stdout",
     "output_type": "stream",
     "text": [
      "Train on 1000 samples\n",
      "Epoch 1/100\n",
      "1000/1000 [==============================] - 1s 985us/sample - loss: 0.6073 - root_mean_squared_error: 0.7793\n",
      "Epoch 2/100\n",
      "1000/1000 [==============================] - 0s 134us/sample - loss: 0.0857 - root_mean_squared_error: 0.2928\n",
      "Epoch 3/100\n",
      "1000/1000 [==============================] - 0s 125us/sample - loss: 0.0190 - root_mean_squared_error: 0.1379\n",
      "Epoch 4/100\n",
      "1000/1000 [==============================] - 0s 124us/sample - loss: 0.0085 - root_mean_squared_error: 0.0923\n",
      "Epoch 5/100\n",
      "1000/1000 [==============================] - 0s 131us/sample - loss: 0.0049 - root_mean_squared_error: 0.0698\n",
      "Epoch 6/100\n",
      "1000/1000 [==============================] - 0s 129us/sample - loss: 0.0036 - root_mean_squared_error: 0.0599\n",
      "Epoch 7/100\n",
      "1000/1000 [==============================] - 0s 134us/sample - loss: 0.0031 - root_mean_squared_error: 0.0555\n",
      "Epoch 8/100\n",
      "1000/1000 [==============================] - 0s 214us/sample - loss: 0.0028 - root_mean_squared_error: 0.0532\n",
      "Epoch 9/100\n",
      "1000/1000 [==============================] - 0s 127us/sample - loss: 0.0021 - root_mean_squared_error: 0.0456\n",
      "Epoch 10/100\n",
      "1000/1000 [==============================] - 0s 125us/sample - loss: 0.0018 - root_mean_squared_error: 0.0422\n",
      "Epoch 11/100\n",
      "1000/1000 [==============================] - 0s 126us/sample - loss: 0.0015 - root_mean_squared_error: 0.0385\n",
      "Epoch 12/100\n",
      "1000/1000 [==============================] - 0s 129us/sample - loss: 0.0026 - root_mean_squared_error: 0.0511\n",
      "Epoch 13/100\n",
      "1000/1000 [==============================] - 0s 127us/sample - loss: 0.0042 - root_mean_squared_error: 0.0651\n",
      "Epoch 14/100\n",
      "1000/1000 [==============================] - 0s 126us/sample - loss: 0.0041 - root_mean_squared_error: 0.0637\n",
      "Epoch 15/100\n",
      "1000/1000 [==============================] - 0s 129us/sample - loss: 0.0012 - root_mean_squared_error: 0.0341\n",
      "Epoch 16/100\n",
      "1000/1000 [==============================] - 0s 128us/sample - loss: 0.0010 - root_mean_squared_error: 0.0320\n",
      "Epoch 17/100\n",
      "1000/1000 [==============================] - 0s 126us/sample - loss: 7.9715e-04 - root_mean_squared_error: 0.0282\n",
      "Epoch 18/100\n",
      "1000/1000 [==============================] - 0s 129us/sample - loss: 7.4829e-04 - root_mean_squared_error: 0.0274\n",
      "Epoch 19/100\n",
      "1000/1000 [==============================] - 0s 131us/sample - loss: 0.0013 - root_mean_squared_error: 0.0363\n",
      "Epoch 20/100\n",
      "1000/1000 [==============================] - 0s 132us/sample - loss: 8.7610e-04 - root_mean_squared_error: 0.0296\n",
      "Epoch 21/100\n",
      "1000/1000 [==============================] - 0s 134us/sample - loss: 0.0019 - root_mean_squared_error: 0.0432\n",
      "Epoch 22/100\n",
      "1000/1000 [==============================] - 0s 131us/sample - loss: 0.0011 - root_mean_squared_error: 0.0331\n",
      "Epoch 23/100\n",
      "1000/1000 [==============================] - 0s 128us/sample - loss: 0.0011 - root_mean_squared_error: 0.0338\n",
      "Epoch 24/100\n",
      "1000/1000 [==============================] - 0s 131us/sample - loss: 8.0030e-04 - root_mean_squared_error: 0.0283\n",
      "Epoch 25/100\n",
      "1000/1000 [==============================] - 0s 129us/sample - loss: 9.7534e-04 - root_mean_squared_error: 0.0312\n",
      "Epoch 26/100\n",
      "1000/1000 [==============================] - 0s 129us/sample - loss: 0.0012 - root_mean_squared_error: 0.0352\n",
      "Epoch 27/100\n",
      "1000/1000 [==============================] - 0s 127us/sample - loss: 8.9739e-04 - root_mean_squared_error: 0.0300\n",
      "Epoch 28/100\n",
      "1000/1000 [==============================] - 0s 126us/sample - loss: 4.4010e-04 - root_mean_squared_error: 0.0210\n",
      "Epoch 29/100\n",
      "1000/1000 [==============================] - 0s 127us/sample - loss: 4.9283e-04 - root_mean_squared_error: 0.0222\n",
      "Epoch 30/100\n",
      "1000/1000 [==============================] - 0s 132us/sample - loss: 4.0728e-04 - root_mean_squared_error: 0.0202\n",
      "Epoch 31/100\n",
      "1000/1000 [==============================] - 0s 125us/sample - loss: 5.4792e-04 - root_mean_squared_error: 0.0234\n",
      "Epoch 32/100\n",
      "1000/1000 [==============================] - 0s 126us/sample - loss: 4.9046e-04 - root_mean_squared_error: 0.0221\n",
      "Epoch 33/100\n",
      "1000/1000 [==============================] - 0s 129us/sample - loss: 6.2589e-04 - root_mean_squared_error: 0.0250\n",
      "Epoch 34/100\n",
      "1000/1000 [==============================] - 0s 132us/sample - loss: 0.0068 - root_mean_squared_error: 0.0822\n",
      "Epoch 35/100\n",
      "1000/1000 [==============================] - 0s 127us/sample - loss: 0.0028 - root_mean_squared_error: 0.0525\n",
      "Epoch 36/100\n",
      "1000/1000 [==============================] - 0s 128us/sample - loss: 0.0011 - root_mean_squared_error: 0.0330\n",
      "Epoch 37/100\n",
      "1000/1000 [==============================] - 0s 131us/sample - loss: 0.0013 - root_mean_squared_error: 0.0366\n",
      "Epoch 38/100\n",
      "1000/1000 [==============================] - 0s 127us/sample - loss: 0.0030 - root_mean_squared_error: 0.0547\n",
      "Epoch 39/100\n",
      "1000/1000 [==============================] - 0s 128us/sample - loss: 0.0096 - root_mean_squared_error: 0.0980\n",
      "Epoch 40/100\n",
      "1000/1000 [==============================] - 0s 129us/sample - loss: 0.0021 - root_mean_squared_error: 0.0460\n",
      "Epoch 41/100\n",
      "1000/1000 [==============================] - 0s 130us/sample - loss: 0.0014 - root_mean_squared_error: 0.0380\n",
      "Epoch 42/100\n",
      "1000/1000 [==============================] - 0s 133us/sample - loss: 7.3012e-04 - root_mean_squared_error: 0.0270\n",
      "Epoch 43/100\n",
      "1000/1000 [==============================] - 0s 128us/sample - loss: 4.8749e-04 - root_mean_squared_error: 0.0221\n",
      "Epoch 44/100\n",
      "1000/1000 [==============================] - 0s 127us/sample - loss: 8.3409e-04 - root_mean_squared_error: 0.0289\n",
      "Epoch 45/100\n",
      "1000/1000 [==============================] - 0s 128us/sample - loss: 8.7445e-04 - root_mean_squared_error: 0.0296\n",
      "Epoch 46/100\n",
      "1000/1000 [==============================] - 0s 131us/sample - loss: 0.0019 - root_mean_squared_error: 0.0431\n",
      "Epoch 47/100\n",
      "1000/1000 [==============================] - 0s 131us/sample - loss: 0.0026 - root_mean_squared_error: 0.0514\n",
      "Epoch 48/100\n",
      "1000/1000 [==============================] - 0s 133us/sample - loss: 0.0016 - root_mean_squared_error: 0.0397\n",
      "Epoch 49/100\n",
      "1000/1000 [==============================] - 0s 127us/sample - loss: 7.3212e-04 - root_mean_squared_error: 0.0271\n",
      "Epoch 50/100\n",
      "1000/1000 [==============================] - 0s 126us/sample - loss: 2.6425e-04 - root_mean_squared_error: 0.0163\n",
      "Epoch 51/100\n",
      "1000/1000 [==============================] - 0s 141us/sample - loss: 2.4466e-04 - root_mean_squared_error: 0.0156\n",
      "Epoch 52/100\n",
      "1000/1000 [==============================] - 0s 127us/sample - loss: 3.5603e-04 - root_mean_squared_error: 0.0189\n",
      "Epoch 53/100\n",
      "1000/1000 [==============================] - 0s 129us/sample - loss: 1.9431e-04 - root_mean_squared_error: 0.0139\n",
      "Epoch 54/100\n",
      "1000/1000 [==============================] - 0s 123us/sample - loss: 1.9702e-04 - root_mean_squared_error: 0.0140\n",
      "Epoch 55/100\n",
      "1000/1000 [==============================] - 0s 121us/sample - loss: 4.8150e-04 - root_mean_squared_error: 0.0219\n",
      "Epoch 56/100\n",
      "1000/1000 [==============================] - 0s 123us/sample - loss: 5.1017e-04 - root_mean_squared_error: 0.0226\n",
      "Epoch 57/100\n",
      "1000/1000 [==============================] - 0s 138us/sample - loss: 2.5944e-04 - root_mean_squared_error: 0.0161\n",
      "Epoch 58/100\n",
      "1000/1000 [==============================] - 0s 120us/sample - loss: 2.4699e-04 - root_mean_squared_error: 0.0157\n",
      "Epoch 59/100\n",
      "1000/1000 [==============================] - 0s 122us/sample - loss: 2.5171e-04 - root_mean_squared_error: 0.0159\n",
      "Epoch 60/100\n",
      "1000/1000 [==============================] - 0s 121us/sample - loss: 2.8067e-04 - root_mean_squared_error: 0.0168\n",
      "Epoch 61/100\n",
      "1000/1000 [==============================] - 0s 128us/sample - loss: 6.0465e-04 - root_mean_squared_error: 0.0246\n",
      "Epoch 62/100\n",
      "1000/1000 [==============================] - 0s 125us/sample - loss: 1.4881e-04 - root_mean_squared_error: 0.0122\n",
      "Epoch 63/100\n",
      "1000/1000 [==============================] - 0s 122us/sample - loss: 1.8932e-04 - root_mean_squared_error: 0.0138\n",
      "Epoch 64/100\n",
      "1000/1000 [==============================] - 0s 122us/sample - loss: 2.2661e-04 - root_mean_squared_error: 0.0151\n",
      "Epoch 65/100\n",
      "1000/1000 [==============================] - 0s 124us/sample - loss: 8.2520e-04 - root_mean_squared_error: 0.0287\n",
      "Epoch 66/100\n",
      "1000/1000 [==============================] - 0s 124us/sample - loss: 0.0018 - root_mean_squared_error: 0.0420\n",
      "Epoch 67/100\n",
      "1000/1000 [==============================] - 0s 123us/sample - loss: 0.0020 - root_mean_squared_error: 0.0447\n",
      "Epoch 68/100\n",
      "1000/1000 [==============================] - 0s 122us/sample - loss: 5.8367e-04 - root_mean_squared_error: 0.0242\n",
      "Epoch 69/100\n",
      "1000/1000 [==============================] - 0s 125us/sample - loss: 3.6226e-04 - root_mean_squared_error: 0.0190\n",
      "Epoch 70/100\n",
      "1000/1000 [==============================] - 0s 127us/sample - loss: 5.9986e-04 - root_mean_squared_error: 0.0245\n",
      "Epoch 71/100\n",
      "1000/1000 [==============================] - 0s 142us/sample - loss: 2.0920e-04 - root_mean_squared_error: 0.0145\n",
      "Epoch 72/100\n",
      "1000/1000 [==============================] - 0s 126us/sample - loss: 1.5987e-04 - root_mean_squared_error: 0.0126\n",
      "Epoch 73/100\n",
      "1000/1000 [==============================] - 0s 125us/sample - loss: 1.9013e-04 - root_mean_squared_error: 0.0138\n",
      "Epoch 74/100\n",
      "1000/1000 [==============================] - 0s 125us/sample - loss: 1.4394e-04 - root_mean_squared_error: 0.0120\n",
      "Epoch 75/100\n",
      "1000/1000 [==============================] - 0s 123us/sample - loss: 9.9514e-04 - root_mean_squared_error: 0.0315\n",
      "Epoch 76/100\n",
      "1000/1000 [==============================] - 0s 126us/sample - loss: 0.0056 - root_mean_squared_error: 0.0747\n",
      "Epoch 77/100\n",
      "1000/1000 [==============================] - 0s 124us/sample - loss: 0.0034 - root_mean_squared_error: 0.0587\n",
      "Epoch 78/100\n",
      "1000/1000 [==============================] - 0s 129us/sample - loss: 0.0029 - root_mean_squared_error: 0.0536\n",
      "Epoch 79/100\n",
      "1000/1000 [==============================] - 0s 129us/sample - loss: 0.0035 - root_mean_squared_error: 0.0590\n",
      "Epoch 80/100\n",
      "1000/1000 [==============================] - 0s 124us/sample - loss: 0.0043 - root_mean_squared_error: 0.0654\n",
      "Epoch 81/100\n",
      "1000/1000 [==============================] - 0s 129us/sample - loss: 8.7835e-04 - root_mean_squared_error: 0.0296\n",
      "Epoch 82/100\n",
      "1000/1000 [==============================] - 0s 139us/sample - loss: 4.6704e-04 - root_mean_squared_error: 0.0216\n",
      "Epoch 83/100\n",
      "1000/1000 [==============================] - 0s 147us/sample - loss: 2.2160e-04 - root_mean_squared_error: 0.0149\n",
      "Epoch 84/100\n",
      "1000/1000 [==============================] - 0s 145us/sample - loss: 2.8585e-04 - root_mean_squared_error: 0.0169\n",
      "Epoch 85/100\n",
      "1000/1000 [==============================] - 0s 137us/sample - loss: 1.7601e-04 - root_mean_squared_error: 0.0133\n",
      "Epoch 86/100\n",
      "1000/1000 [==============================] - 0s 152us/sample - loss: 8.4832e-05 - root_mean_squared_error: 0.0092\n",
      "Epoch 87/100\n",
      "1000/1000 [==============================] - 0s 145us/sample - loss: 1.2603e-04 - root_mean_squared_error: 0.0112\n",
      "Epoch 88/100\n",
      "1000/1000 [==============================] - 0s 140us/sample - loss: 1.4252e-04 - root_mean_squared_error: 0.0119\n",
      "Epoch 89/100\n",
      "1000/1000 [==============================] - 0s 140us/sample - loss: 1.6146e-04 - root_mean_squared_error: 0.0127\n",
      "Epoch 90/100\n",
      "1000/1000 [==============================] - 0s 143us/sample - loss: 1.6781e-04 - root_mean_squared_error: 0.0130\n",
      "Epoch 91/100\n",
      "1000/1000 [==============================] - 0s 145us/sample - loss: 6.7811e-04 - root_mean_squared_error: 0.0260\n",
      "Epoch 92/100\n",
      "1000/1000 [==============================] - 0s 136us/sample - loss: 1.8481e-04 - root_mean_squared_error: 0.0136\n",
      "Epoch 93/100\n",
      "1000/1000 [==============================] - 0s 144us/sample - loss: 7.8778e-04 - root_mean_squared_error: 0.0281\n",
      "Epoch 94/100\n",
      "1000/1000 [==============================] - 0s 142us/sample - loss: 0.0033 - root_mean_squared_error: 0.0572\n",
      "Epoch 95/100\n",
      "1000/1000 [==============================] - 0s 146us/sample - loss: 0.0024 - root_mean_squared_error: 0.0492\n",
      "Epoch 96/100\n",
      "1000/1000 [==============================] - 0s 145us/sample - loss: 0.0043 - root_mean_squared_error: 0.0658\n",
      "Epoch 97/100\n",
      "1000/1000 [==============================] - 0s 144us/sample - loss: 9.3490e-04 - root_mean_squared_error: 0.0306\n",
      "Epoch 98/100\n",
      "1000/1000 [==============================] - 0s 151us/sample - loss: 7.7893e-04 - root_mean_squared_error: 0.0279\n",
      "Epoch 99/100\n",
      "1000/1000 [==============================] - 0s 143us/sample - loss: 8.7082e-04 - root_mean_squared_error: 0.0295\n",
      "Epoch 100/100\n",
      "1000/1000 [==============================] - 0s 129us/sample - loss: 6.1029e-04 - root_mean_squared_error: 0.0247\n",
      "300/1 [========================================================================================================================================================================================================================================================================================================================================================================================================================================================================================================================================================================================================================================================================================================================================================================================================================================================================================================================================================================================================================================================================================================================================================================================================================================================================================================================================================================================================================================================================================================================================================================================================================================================================================================================================================================================================================================================================================================================================================================================================================================================================================================================================================================================================================================================================================================================================================================================================================================================================================================================================================================================================================================================================================================================================================================================================================================================================================================================================================================================================================================================================================================================================================================================================================================================================================================================================================================================================================================================================================================================================================================================================================================================================================================================================================================================================================================================================================================================================================================================================================================================================================================================================================================================================================================================================================================================================================================================================================================================================================================================================================================================================================================================================================================================================================================================================================================================================================================================================================================================================================================================================================================================================================================================================================================================================================================================================================================================================================================================================================================================================================================================================================================================================================================================================================================================================================================================================================================================================================================================================================================================================================================================================================================================================================================================================================================================================================================================================================================================================================================================================================================================================================================================================================================================================================================================================================================================================================================================================================================================================================================================================================================================================================================================================================================================================================================================================================================================================================================================================================================================================================================================================================================================================================================================================================================================================================================================================================================================================================================================================================================================================================================================================================================================================================================================================================================================================================================================================================================================================================================================================================================================================================================================================================================================================================================================================================================================================================================================================================================================================================================================================================================================================================================================================================================================================================================================================================================] - 0s 629us/sample - loss: 9.7236e-04 - root_mean_squared_error: 0.0326\n"
     ]
    },
    {
     "name": "stdout",
     "output_type": "stream",
     "text": [
      "WARNING:tensorflow:From /Users/elliesuit/opt/anaconda3/envs/tensorflow/lib/python3.7/site-packages/tensorflow_core/python/ops/resource_variable_ops.py:1781: calling BaseResourceVariable.__init__ (from tensorflow.python.ops.resource_variable_ops) with constraint is deprecated and will be removed in a future version.\n",
      "Instructions for updating:\n",
      "If using Keras pass *_constraint arguments to layers.\n",
      "INFO:tensorflow:Assets written to: normal_distribution.model/assets\n"
     ]
    }
   ],
   "source": [
    "#test and train model based on elements\n",
    "model = nn.set_model() \n",
    "nn.train(model, num_inputs, factor, num_labels, x_train, y_train) \n",
    "nn.test(model, x_test, y_test) \n",
    "nn.save(model, model_name) "
   ]
  },
  {
   "cell_type": "code",
   "execution_count": 8,
   "id": "d6b11648",
   "metadata": {
    "scrolled": true
   },
   "outputs": [],
   "source": [
    "#saves the model data\n",
    "new_model = tf.keras.models.load_model('generalized_normal.model') \n"
   ]
  },
  {
   "cell_type": "code",
   "execution_count": 9,
   "id": "041e1c6a",
   "metadata": {},
   "outputs": [],
   "source": [
    "#makes predictions for all elements in x_test array  \n",
    "predictions = new_model.predict(x_test)"
   ]
  },
  {
   "cell_type": "code",
   "execution_count": 10,
   "id": "5e11040b",
   "metadata": {},
   "outputs": [],
   "source": [
    "#transpose predictions and y test into column vectors for matrix mult purposes\n",
    "predictions = predictions.T\n",
    "y_test = y_test.T"
   ]
  },
  {
   "cell_type": "code",
   "execution_count": 13,
   "id": "782e4334",
   "metadata": {},
   "outputs": [
    {
     "data": {
      "image/png": "[encoded data removed]",
      "text/plain": [
       "<Figure size 432x288 with 1 Axes>"
      ]
     },
     "metadata": {
      "needs_background": "light"
     },
     "output_type": "display_data"
    },
    {
     "data": {
      "image/png": "[encoded data removed]",
      "text/plain": [
       "<Figure size 432x288 with 1 Axes>"
      ]
     },
     "metadata": {
      "needs_background": "light"
     },
     "output_type": "display_data"
    },
    {
     "data": {
      "image/png": "[encoded data removed]",
      "text/plain": [
       "<Figure size 432x288 with 1 Axes>"
      ]
     },
     "metadata": {
      "needs_background": "light"
     },
     "output_type": "display_data"
    }
   ],
   "source": [
    "#absolute error in histograms \n",
    "#error: label 1\n",
    "plt.hist(predictions[0]-y_test[0])\n",
    "plt.title('Distribution of Mu Errors')\n",
    "plt.ylabel('Number of Occurences')\n",
    "plt.xlabel('Absolute Error')\n",
    "plt.show()\n",
    "\n",
    "#error: label 2\n",
    "plt.hist(predictions[1]-y_test[1])\n",
    "plt.title('Distribution of Alpha Errors')\n",
    "plt.ylabel('Number of Occurences')\n",
    "plt.xlabel('Absolute Error')\n",
    "plt.show()\n",
    "\n",
    "#error: label 3\n",
    "plt.hist(predictions[2]-y_test[2])\n",
    "plt.title('Distribution of Beta Errors')\n",
    "plt.ylabel('Number of Occurences')\n",
    "plt.xlabel('Absolute Error')\n",
    "plt.show()"
   ]
  },
  {
   "cell_type": "code",
   "execution_count": null,
   "id": "ce4a5c6e",
   "metadata": {},
   "outputs": [],
   "source": []
  }
 ],
 "metadata": {
  "kernelspec": {
   "display_name": "Python 3",
   "language": "python",
   "name": "python3"
  },
  "language_info": {
   "codemirror_mode": {
    "name": "ipython",
    "version": 3
   },
   "file_extension": ".py",
   "mimetype": "text/x-python",
   "name": "python",
   "nbconvert_exporter": "python",
   "pygments_lexer": "ipython3",
   "version": "3.7.10"
  }
 },
 "nbformat": 4,
 "nbformat_minor": 5
}
